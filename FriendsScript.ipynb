{
 "cells": [
  {
   "cell_type": "code",
   "execution_count": 1,
   "metadata": {},
   "outputs": [],
   "source": [
    "import json\n",
    "import string\n",
    "import requests\n",
    "from urllib.parse import urljoin \n",
    "from bs4 import BeautifulSoup, Tag \n",
    "import re\n",
    "import csv\n",
    "from tqdm import tqdm_notebook as tqdm\n",
    "import pyexcel as pe\n",
    "import datetime"
   ]
  },
  {
   "cell_type": "code",
   "execution_count": 2,
   "metadata": {},
   "outputs": [],
   "source": [
    "base_url = \"https://fangj.github.io/friends/\"\n",
    "req = requests.get(base_url)\n",
    "soup = BeautifulSoup(req.text, \"html.parser\")"
   ]
  },
  {
   "cell_type": "markdown",
   "metadata": {},
   "source": [
    "Get all the links to the scripts"
   ]
  },
  {
   "cell_type": "code",
   "execution_count": 3,
   "metadata": {},
   "outputs": [],
   "source": [
    "script_links = []\n",
    "for link in soup.find_all('a'):\n",
    "    # Disregard the outtakes files\n",
    "    if link.get('href').find('outtakes') == -1:\n",
    "        script_links.append(str('https://fangj.github.io/friends/' + (link.get('href'))))"
   ]
  },
  {
   "cell_type": "code",
   "execution_count": 4,
   "metadata": {},
   "outputs": [
    {
     "data": {
      "text/plain": [
       "['https://fangj.github.io/friends/season/0101.html',\n",
       " 'https://fangj.github.io/friends/season/0102.html',\n",
       " 'https://fangj.github.io/friends/season/0103.html',\n",
       " 'https://fangj.github.io/friends/season/0104.html',\n",
       " 'https://fangj.github.io/friends/season/0105.html']"
      ]
     },
     "execution_count": 4,
     "metadata": {},
     "output_type": "execute_result"
    }
   ],
   "source": [
    "script_links[0:5]"
   ]
  },
  {
   "cell_type": "code",
   "execution_count": 5,
   "metadata": {},
   "outputs": [],
   "source": [
    "subbase_url = script_links[1]\n",
    "req = requests.get(subbase_url)\n",
    "soup = BeautifulSoup(req.text, \"html.parser\")"
   ]
  },
  {
   "cell_type": "code",
   "execution_count": 6,
   "metadata": {},
   "outputs": [
    {
     "data": {
      "text/plain": [
       "[\"Monica: What you guys don't understand is, for us,\\nkissing is as important as any part of it. \",\n",
       " \"Joey: Yeah, right!.......Y'serious? \",\n",
       " 'Phoebe: Oh, yeah! ',\n",
       " 'Rachel: Everything you need to know is in that first kiss. ',\n",
       " 'Monica: Absolutely. ',\n",
       " \"Chandler: Yeah, I think for us, kissing is pretty much like an opening act,\\ny'know? I mean it's like the stand-up comedian you have to sit through before Pink Floyd\\ncomes out. \",\n",
       " \"Ross: Yeah, and-and it's not that we don't like the comedian, it's that-that...\\nthat's not why we bought the ticket. \",\n",
       " \"Chandler: The problem is, though, after the concert's over, no matter how great\\nthe show was, you girls are always looking for the comedian again, y'know? I mean, we're\\nin the car, we're fighting traffic... basically just trying to stay awake. \",\n",
       " \"Rachel: Yeah, well, word of advice: Bring back the comedian. Otherwise next time\\nyou're gonna find yourself sitting at home, listening to that album alone. \"]"
      ]
     },
     "execution_count": 6,
     "metadata": {},
     "output_type": "execute_result"
    }
   ],
   "source": [
    "[text.text for text in soup.find_all('p')if not text.text.startswith('[') and not text.text.startswith('(')][1:10]"
   ]
  },
  {
   "cell_type": "code",
   "execution_count": 10,
   "metadata": {},
   "outputs": [
    {
     "data": {
      "application/vnd.jupyter.widget-view+json": {
       "model_id": "0e31caf5601943839c860ac259339f10",
       "version_major": 2,
       "version_minor": 0
      },
      "text/plain": [
       "HBox(children=(IntProgress(value=0, max=227), HTML(value='')))"
      ]
     },
     "metadata": {},
     "output_type": "display_data"
    },
    {
     "name": "stdout",
     "output_type": "stream",
     "text": [
      "\n"
     ]
    }
   ],
   "source": [
    "output_path = '/Users/nicholas/Desktop/DeepWriting/Friends/input.txt'\n",
    "with open(output_path, 'w') as textfile:\n",
    "    for episode in tqdm(script_links):\n",
    "        episode_text = [text.text for text in soup.find_all('p')if not text.text.startswith('[') and not text.text.startswith('(')]\n",
    "        for line in episode_text:\n",
    "            textfile.write(line)\n",
    "            textfile.write('\\n')\n",
    "        textfile.write('--<end-of-episode>--')"
   ]
  },
  {
   "cell_type": "code",
   "execution_count": null,
   "metadata": {},
   "outputs": [],
   "source": []
  }
 ],
 "metadata": {
  "kernelspec": {
   "display_name": "Python 3",
   "language": "python",
   "name": "python3"
  },
  "language_info": {
   "codemirror_mode": {
    "name": "ipython",
    "version": 3
   },
   "file_extension": ".py",
   "mimetype": "text/x-python",
   "name": "python",
   "nbconvert_exporter": "python",
   "pygments_lexer": "ipython3",
   "version": "3.6.8"
  }
 },
 "nbformat": 4,
 "nbformat_minor": 2
}
